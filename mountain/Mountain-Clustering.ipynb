{
 "cells": [
  {
   "cell_type": "markdown",
   "metadata": {},
   "source": [
    "Javier Arturo Rozo Alzate - jarozoa@eafit.edu.co  \n",
    "Johan Steward Rios Naranjo - jriosna1@eafit.edu.co    \n",
    "Liceth Cristina Mosquera Galvis - lcmosquerg@eafit.edu.co  \n",
    "Juan Mauricio Cuscagua Lopez - jcuscagu@eafit.edu.co  \n",
    "Juan Diego Estrada Perez - jestra15@eafit.edu.co\n",
    "\n",
    "Programa: Aprendizaje Automático\n",
    "Docente: Olga Lucia Quintero - oquinte1@eafit.edu.co  \n",
    "05 de noviembre de 2019<br>\n",
    "\n",
    "Basado en: https://pythonhosted.org/scikit-fuzzy/auto_examples/plot_cmeans.html"
   ]
  },
  {
   "cell_type": "code",
   "execution_count": null,
   "metadata": {},
   "outputs": [],
   "source": []
  }
 ],
 "metadata": {
  "kernelspec": {
   "display_name": "Python 3",
   "language": "python",
   "name": "python3"
  },
  "language_info": {
   "codemirror_mode": {
    "name": "ipython",
    "version": 3
   },
   "file_extension": ".py",
   "mimetype": "text/x-python",
   "name": "python",
   "nbconvert_exporter": "python",
   "pygments_lexer": "ipython3",
   "version": "3.7.3"
  }
 },
 "nbformat": 4,
 "nbformat_minor": 2
}
