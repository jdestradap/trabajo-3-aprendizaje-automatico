{
 "cells": [
  {
   "cell_type": "markdown",
   "metadata": {},
   "source": [
    "- Javier Arturo Rozo Alzate - jarozoa@eafit.edu.co\n",
    "- Johan Steward Rios Naranjo - jriosna1@eafit.edu.co\n",
    "- Liceth Cristina Mosquera Galvis - lcmosquerg@eafit.edu.co\n",
    "- Juan Mauricio Cuscagua Lopez - jcuscagu@eafit.edu.co\n",
    "- Juan Diego Estrada Perez - jestra15@eafit.edu.co\n",
    "\n",
    "Programa: Aprendizaje Automático Docente: Olga Lucia Quintero - oquinte1@eafit.edu.co\n",
    "05 de noviembre de 2019\n",
    "\n",
    "Basado en paper Fuzzy Model Identification Based On Cluster Estimation, Chiu (2004)"
   ]
  },
  {
   "cell_type": "markdown",
   "metadata": {},
   "source": [
    "from sklearn import datasets\n",
    "from sklearn.decomposition import PCA\n",
    "from sklearn.preprocessing import StandardScaler"
   ]
  },
  {
   "cell_type": "code",
   "execution_count": 3,
   "metadata": {},
   "outputs": [],
   "source": [
    "import numpy as np\n",
    "import pandas as pd\n",
    "import math\n",
    "import read_data as imp\n",
    "import matplotlib as ptl\n",
    "import matplotlib.pyplot as plt"
   ]
  },
  {
   "cell_type": "code",
   "execution_count": 8,
   "metadata": {},
   "outputs": [],
   "source": [
    "# Original data full dimensions"
   ]
  },
  {
   "cell_type": "code",
   "execution_count": 5,
   "metadata": {},
   "outputs": [],
   "source": [
    "df = pd.read_csv('Data.csv')"
   ]
  },
  {
   "cell_type": "code",
   "execution_count": 11,
   "metadata": {},
   "outputs": [],
   "source": [
    "#Data full dimensions.\n",
    "\n",
    "df_full = df.drop(columns=['Date', 'Class'])\n",
    "\n",
    "df_full.shape[1]\n",
    "\n",
    "#tranform to np array\n",
    "\n",
    "d_full= df_full.values \n",
    "\n",
    "A=d_full"
   ]
  },
  {
   "cell_type": "code",
   "execution_count": 12,
   "metadata": {},
   "outputs": [
    {
     "name": "stdout",
     "output_type": "stream",
     "text": [
      "the position of the first centroid is 3623\n",
      "the potential value of the first centroid is 1.1574264278257391\n"
     ]
    }
   ],
   "source": [
    "#calcular el valor de alfa\n",
    "\n",
    "ra = 0.3\n",
    "\n",
    "alpha = 4/(ra**2)\n",
    "\n",
    "# Calculate P_i\n",
    "#A = np.arange(25).reshape(5,5)\n",
    "\n",
    "rang = range(A.shape[0])\n",
    "p=[]\n",
    "for i in rang:\n",
    "    r_i=A[i,:]\n",
    "    l = []\n",
    "    for j in rang:\n",
    "        \n",
    "        r_j=A[j,:]\n",
    "        l.append(math.exp(-alpha*(np.linalg.norm(r_i-r_j)**2)))    \n",
    "   \n",
    "    p.append(sum(l))\n",
    "              \n",
    "p_np = np.asarray(p)\n",
    "P1_position = p_np.argmax()\n",
    "P1_potential_value  =p_np[p_np.argmax()]\n",
    "print(\"the position of the first centroid is\", P1_position)\n",
    "print(\"the potential value of the first centroid is\", P1_potential_value)\n",
    "  "
   ]
  },
  {
   "cell_type": "code",
   "execution_count": null,
   "metadata": {},
   "outputs": [],
   "source": [
    "#review the potential of each data point x"
   ]
  },
  {
   "cell_type": "code",
   "execution_count": 14,
   "metadata": {},
   "outputs": [],
   "source": [
    "\n",
    "def redefine(P1_position,P1_potential_value,p_np):\n",
    "    # define Beta\n",
    "    global p_np_rev\n",
    "    rb = 0.7\n",
    "\n",
    "    #recomended value for rb is 1.5ra\n",
    "\n",
    "    beta = 4/(rb**2)\n",
    "\n",
    "    #review the potential of each data point x\n",
    "    x_1 = A[P1_position,:] #the location of the first selected centroid.\n",
    "    \n",
    "    p_np_rev = []\n",
    "    \n",
    "    for i in range(len(p_np)):\n",
    "        r_i=A[i,:]\n",
    "        p_np_rev.append(p_np[i]- (P1_potential_value*(math.exp(-beta*(np.linalg.norm(r_i-x_1)**2)))))\n",
    "    \n",
    "   "
   ]
  },
  {
   "cell_type": "code",
   "execution_count": 15,
   "metadata": {},
   "outputs": [
    {
     "name": "stdout",
     "output_type": "stream",
     "text": [
      "the number of the centroids is 3\n",
      "the positions of the centroids are [3623, 1887, 3593]\n"
     ]
    }
   ],
   "source": [
    "# Define 3 lists, \n",
    "#the first is the input of the potential values \n",
    "#the second is the list that is modified in the second part of the iteration\n",
    "#the third save the position of each centroid\n",
    "\n",
    "l1= p_np\n",
    "l2= p_np\n",
    "l3= []\n",
    "\n",
    "###\n",
    "#Value e\n",
    "\n",
    "e= 0.95\n",
    "###\n",
    "\n",
    "x_k = P1_position\n",
    "p_k = P1_potential_value\n",
    "p_np_rev = p_np\n",
    "\n",
    "l3.append(P1_position)\n",
    "\n",
    "# we want to find de second max value of p, to achieve that we replace the current max value for 0\n",
    "\n",
    "\n",
    "while p_k > e*P1_potential_value:\n",
    "    \n",
    "    redefine(x_k,p_k,p_np_rev)\n",
    "    \n",
    "    p_np_rev = np.asarray(p_np_rev)\n",
    "    x_k = p_np_rev.argmax()\n",
    "    p_k =p_np_rev[x_k]\n",
    "    \n",
    "    l3.append(x_k)\n",
    "    \n",
    "    \n",
    "\n",
    "    if (p_k < e*P1_potential_value):\n",
    "        break\n",
    "        \n",
    "    if (len(l3)>10):\n",
    "        break\n",
    "\n",
    "        \n",
    "  \n",
    "    \n",
    "    \n",
    "print(\"the number of the centroids is\", len(l3))\n",
    "print(\"the positions of the centroids are\", l3)\n",
    "\n"
   ]
  },
  {
   "cell_type": "markdown",
   "metadata": {},
   "source": [
    "### Cluster estimation and evaluation.\n",
    "Once the number of cluster is defined, and the data entries that acts as centroids are choosen, we proceed to  implement a traditional Kmeans, using this info as input."
   ]
  },
  {
   "cell_type": "code",
   "execution_count": 28,
   "metadata": {},
   "outputs": [],
   "source": [
    "from sklearn.cluster import KMeans\n",
    "from sklearn.metrics import silhouette_score\n",
    "\n",
    "\n",
    "# bring the results of sustractive to be used in the kmeans algo.\n",
    "\n",
    "n_clust = len(l3)\n",
    "centroids = []\n",
    "\n",
    "for i in range(len(l3)):\n",
    "    centroids.append(A[l3[i]])\n",
    "centroids = np.asarray(centroids)    "
   ]
  },
  {
   "cell_type": "code",
   "execution_count": 26,
   "metadata": {},
   "outputs": [],
   "source": [
    "km = KMeans(n_clusters = n_clust, init = centroids, n_init = 1)\n",
    "km.fit(A);\n"
   ]
  },
  {
   "cell_type": "code",
   "execution_count": 30,
   "metadata": {},
   "outputs": [
    {
     "name": "stdout",
     "output_type": "stream",
     "text": [
      "0.2721984233326777\n"
     ]
    }
   ],
   "source": [
    "print(silhouette_score(A, km.labels_))"
   ]
  },
  {
   "cell_type": "markdown",
   "metadata": {},
   "source": [
    "# Clustering in low dimensions"
   ]
  },
  {
   "cell_type": "code",
   "execution_count": 31,
   "metadata": {},
   "outputs": [
    {
     "data": {
      "text/plain": [
       "19"
      ]
     },
     "execution_count": 31,
     "metadata": {},
     "output_type": "execute_result"
    }
   ],
   "source": [
    "#Data Low dimensions\n",
    "\n",
    "# Standardizing the features\n",
    "x = StandardScaler().fit_transform(df_full)\n",
    "\n",
    "pca = PCA(.95)\n",
    "pca.fit(df_full)\n",
    "\n",
    "d_low = pca.transform(df_full)\n",
    "\n",
    "pca.n_components_ "
   ]
  },
  {
   "cell_type": "code",
   "execution_count": 32,
   "metadata": {},
   "outputs": [],
   "source": [
    "A=d_low"
   ]
  },
  {
   "cell_type": "code",
   "execution_count": 33,
   "metadata": {},
   "outputs": [
    {
     "name": "stdout",
     "output_type": "stream",
     "text": [
      "the position of the first centroid is 1887\n",
      "the potential value of the first centroid is 1.3692952603060158\n"
     ]
    }
   ],
   "source": [
    "#calcular el valor de alfa\n",
    "\n",
    "ra = 0.3\n",
    "\n",
    "alpha = 4/(ra**2)\n",
    "\n",
    "# Calculate P_i\n",
    "#A = np.arange(25).reshape(5,5)\n",
    "\n",
    "rang = range(A.shape[0])\n",
    "p=[]\n",
    "for i in rang:\n",
    "    r_i=A[i,:]\n",
    "    l = []\n",
    "    for j in rang:\n",
    "        \n",
    "        r_j=A[j,:]\n",
    "        l.append(math.exp(-alpha*(np.linalg.norm(r_i-r_j)**2)))    \n",
    "   \n",
    "    p.append(sum(l))\n",
    "              \n",
    "p_np = np.asarray(p)\n",
    "P1_position = p_np.argmax()\n",
    "P1_potential_value  =p_np[p_np.argmax()]\n",
    "print(\"the position of the first centroid is\", P1_position)\n",
    "print(\"the potential value of the first centroid is\", P1_potential_value)\n",
    "        "
   ]
  },
  {
   "cell_type": "code",
   "execution_count": 34,
   "metadata": {},
   "outputs": [
    {
     "name": "stdout",
     "output_type": "stream",
     "text": [
      "the number of the centroids is 4\n",
      "the positions of the centroids are [1887, 3394, 3623, 3378]\n"
     ]
    }
   ],
   "source": [
    "# Define 3 lists, \n",
    "#the first is the input of the potential values \n",
    "#the second is the list that is modified in the second part of the iteration\n",
    "#the third save the position of each centroid\n",
    "\n",
    "l1= p_np\n",
    "l2= p_np\n",
    "l3= []\n",
    "\n",
    "###\n",
    "#Value e\n",
    "\n",
    "e= 0.9\n",
    "###\n",
    "\n",
    "x_k = P1_position\n",
    "p_k = P1_potential_value\n",
    "p_np_rev = p_np\n",
    "\n",
    "l3.append(P1_position)\n",
    "\n",
    "# we want to find de second max value of p, to achieve that we replace the current max value for 0\n",
    "\n",
    "\n",
    "while p_k > e*P1_potential_value:\n",
    "    \n",
    "    redefine(x_k,p_k,p_np_rev)\n",
    "    \n",
    "    p_np_rev = np.asarray(p_np_rev)\n",
    "    x_k = p_np_rev.argmax()\n",
    "    p_k =p_np_rev[x_k]\n",
    "    \n",
    "    l3.append(x_k)\n",
    "    \n",
    "    \n",
    "\n",
    "    if (p_k < e*P1_potential_value):\n",
    "        break\n",
    "        \n",
    "    if (len(l3)>10):\n",
    "        break\n",
    "\n",
    "        \n",
    "  \n",
    "    \n",
    "    \n",
    "print(\"the number of the centroids is\", len(l3))\n",
    "print(\"the positions of the centroids are\", l3)"
   ]
  },
  {
   "cell_type": "markdown",
   "metadata": {},
   "source": [
    "### Cluster estimation and evaluation."
   ]
  },
  {
   "cell_type": "code",
   "execution_count": 35,
   "metadata": {},
   "outputs": [],
   "source": [
    "from sklearn.cluster import KMeans\n",
    "from sklearn.metrics import silhouette_score\n",
    "\n",
    "\n",
    "# bring the results of sustractive to be used in the kmeans algo.\n",
    "\n",
    "n_clust = len(l3)\n",
    "centroids = []\n",
    "\n",
    "for i in range(len(l3)):\n",
    "    centroids.append(A[l3[i]])\n",
    "centroids = np.asarray(centroids)   "
   ]
  },
  {
   "cell_type": "code",
   "execution_count": 36,
   "metadata": {},
   "outputs": [],
   "source": [
    "km = KMeans(n_clusters = n_clust, init = centroids, n_init = 1)\n",
    "km.fit(A);\n"
   ]
  },
  {
   "cell_type": "code",
   "execution_count": 37,
   "metadata": {},
   "outputs": [
    {
     "name": "stdout",
     "output_type": "stream",
     "text": [
      "0.2547220900453347\n"
     ]
    }
   ],
   "source": [
    "print(silhouette_score(A, km.labels_))"
   ]
  }
 ],
 "metadata": {
  "kernelspec": {
   "display_name": "Python 3",
   "language": "python",
   "name": "python3"
  },
  "language_info": {
   "codemirror_mode": {
    "name": "ipython",
    "version": 3
   },
   "file_extension": ".py",
   "mimetype": "text/x-python",
   "name": "python",
   "nbconvert_exporter": "python",
   "pygments_lexer": "ipython3",
   "version": "3.7.1"
  }
 },
 "nbformat": 4,
 "nbformat_minor": 4
}
