{
 "cells": [
  {
   "cell_type": "markdown",
   "metadata": {},
   "source": [
    "Javier Arturo Rozo Alzate - jarozoa@eafit.edu.co\n",
    "Johan Steward Rios Naranjo - jriosna1@eafit.edu.co\n",
    "Liceth Cristina Mosquera Galvis - lcmosquerg@eafit.edu.co\n",
    "Juan Mauricio Cuscagua Lopez - jcuscagu@eafit.edu.co\n",
    "Juan Diego Estrada Perez - jestra15@eafit.edu.co\n",
    "\n",
    "Programa: Aprendizaje Automático Docente: Olga Lucia Quintero - oquinte1@eafit.edu.co\n",
    "05 de noviembre de 2019\n",
    "\n",
    "Basado en Hands on unsupervised learning, Ankur A. Partel  (2019)"
   ]
  },
  {
   "cell_type": "markdown",
   "metadata": {},
   "source": [
    "# Clustering sobre datos con dimension temporal\n",
    "## No supervisado, datos proyecto integrador \n",
    "\n",
    "Datos mercado.\n",
    "\n",
    "Libreria utilizada  tslearn  https://tslearn.readthedocs.io/en/latest/index.html\n",
    "\n"
   ]
  },
  {
   "cell_type": "code",
   "execution_count": 11,
   "metadata": {},
   "outputs": [],
   "source": [
    "'''Main'''\n",
    "import numpy as np\n",
    "import pandas as pd\n",
    "import os, time, re\n",
    "import pickle, gzip, datetime\n",
    "from os import listdir, walk\n",
    "from os.path import isfile, join\n",
    "\n",
    "'''Data Viz'''\n",
    "import matplotlib.pyplot as plt\n",
    "import seaborn as sns\n",
    "color = sns.color_palette()\n",
    "import matplotlib as mpl\n",
    "from mpl_toolkits.axes_grid1 import Grid\n",
    "\n",
    "%matplotlib inline\n",
    "\n",
    "'''Data Prep and Model Evaluation'''\n",
    "from sklearn import preprocessing as pp\n",
    "from sklearn.model_selection import train_test_split \n",
    "from sklearn.model_selection import StratifiedKFold \n",
    "from sklearn.metrics import log_loss, accuracy_score\n",
    "from sklearn.metrics import precision_recall_curve, average_precision_score\n",
    "from sklearn.metrics import roc_curve, auc, roc_auc_score, mean_squared_error\n",
    "from keras.utils import to_categorical\n",
    "from sklearn.metrics import adjusted_rand_score\n",
    "import random\n",
    "\n",
    "'''Algos'''\n",
    "from kshape.core import kshape, zscore\n",
    "import tslearn\n",
    "from tslearn.utils import to_time_series_dataset\n",
    "from tslearn.clustering import KShape, TimeSeriesScalerMeanVariance\n",
    "from tslearn.clustering import TimeSeriesKMeans\n",
    "import hdbscan\n",
    "\n"
   ]
  },
  {
   "cell_type": "markdown",
   "metadata": {},
   "source": [
    "# Preprocesamiento de los datos"
   ]
  },
  {
   "cell_type": "code",
   "execution_count": 12,
   "metadata": {},
   "outputs": [],
   "source": [
    "text_file = open(\"Tickers.txt\", \"r\")\n",
    "tkrs= text_file.read().split('\\n')\n",
    "tkrs.remove('')\n",
    "\n"
   ]
  },
  {
   "cell_type": "code",
   "execution_count": 13,
   "metadata": {},
   "outputs": [],
   "source": [
    "#lectura de los datos\n",
    "#symbols = ['XLP','ACN']\n",
    "\n",
    "symbols =tkrs\n",
    "\n",
    "path_features = \"Features.txt\"\n",
    "features = list(pd.read_csv(path_features, sep=\"\\n\", header=None)[0].values)\n",
    "features\n",
    "\n",
    "years = [x for x in range(2018,2019)] # Define the years you need\n",
    "hist_data = imp.organizarTodo(symbols,years) # Read the symbols\n",
    "hist_feature = imp.organizarTodo(features,years,True) # Read the features"
   ]
  },
  {
   "cell_type": "code",
   "execution_count": 14,
   "metadata": {},
   "outputs": [],
   "source": [
    "# creates a dictionary with the ticker as key, and the variation as the data.\n",
    "d = {}\n",
    "for key in hist_data:\n",
    "    pp = hist_data[key].loc[:,'Close'].tolist()\n",
    "    l = []\n",
    "    for i in pp:\n",
    "        l.append(((i+1)/i)-1)\n",
    "    d[key]=l\n",
    "    \n",
    "    \n",
    "    "
   ]
  },
  {
   "cell_type": "code",
   "execution_count": 15,
   "metadata": {},
   "outputs": [],
   "source": [
    "# creates a dictionary with the ticker as key, and the variation as the data.\n",
    "d = {}\n",
    "for key in hist_data:\n",
    "    pp = hist_data[key].loc[:,'Close'].tolist()\n",
    "    l = []\n",
    "    for i in pp:\n",
    "        l.append(((i+1)/i)-1)\n",
    "    d[key]= l   \n",
    "    \n",
    "a = []\n",
    "for key in d:\n",
    "    a.append(d[key])"
   ]
  },
  {
   "cell_type": "code",
   "execution_count": 16,
   "metadata": {},
   "outputs": [
    {
     "name": "stdout",
     "output_type": "stream",
     "text": [
      "(262, 538)\n"
     ]
    },
    {
     "data": {
      "text/plain": [
       "array([], shape=(0, 2), dtype=int64)"
      ]
     },
     "execution_count": 16,
     "metadata": {},
     "output_type": "execute_result"
    }
   ],
   "source": [
    "\n",
    "y = np.hstack(a)\n",
    "index = [140958,140957,140956]\n",
    "y1 = np.delete(y, index)\n",
    "#y1 = np.asarray(y1)\n",
    "y1 = y1.reshape(262,538)\n",
    "\n",
    "print(y1.shape)\n",
    "\n",
    "y1 = y1.astype('float32') \n",
    "\n",
    "where_are_NaNs = np.isnan(y1)\n",
    "y1[where_are_NaNs] = 0\n",
    "\n",
    "np.argwhere(np.isnan(y1))"
   ]
  },
  {
   "cell_type": "markdown",
   "metadata": {},
   "source": [
    "# Series de tiempo"
   ]
  },
  {
   "cell_type": "code",
   "execution_count": 18,
   "metadata": {},
   "outputs": [],
   "source": [
    "X_train = to_time_series_dataset(y1)"
   ]
  },
  {
   "cell_type": "code",
   "execution_count": 19,
   "metadata": {},
   "outputs": [],
   "source": [
    "# Prepare the data - Scale\n",
    "X_train = TimeSeriesScalerMeanVariance(mu=0., std=1.).fit_transform(X_train)"
   ]
  },
  {
   "cell_type": "code",
   "execution_count": 31,
   "metadata": {},
   "outputs": [
    {
     "data": {
      "text/plain": [
       "[<matplotlib.lines.Line2D at 0x1364070f0>]"
      ]
     },
     "execution_count": 31,
     "metadata": {},
     "output_type": "execute_result"
    },
    {
     "data": {
      "image/png": "[encoded data removed]",
      "text/plain": [
       "<Figure size 432x288 with 1 Axes>"
      ]
     },
     "metadata": {
      "needs_background": "light"
     },
     "output_type": "display_data"
    }
   ],
   "source": [
    "plt.plot(X_train[150])"
   ]
  },
  {
   "cell_type": "code",
   "execution_count": 29,
   "metadata": {},
   "outputs": [],
   "source": [
    "#k-shape algo"
   ]
  },
  {
   "cell_type": "code",
   "execution_count": 30,
   "metadata": {},
   "outputs": [
    {
     "data": {
      "text/plain": [
       "KShape(init='random', max_iter=100, n_clusters=2, n_init=100, random_state=None,\n",
       "       tol=1e-06, verbose=0)"
      ]
     },
     "execution_count": 30,
     "metadata": {},
     "output_type": "execute_result"
    }
   ],
   "source": [
    "ks = KShape(n_clusters=2, max_iter=100, n_init=100,verbose=0)\n",
    "ks.fit(X_train)"
   ]
  },
  {
   "cell_type": "code",
   "execution_count": 32,
   "metadata": {},
   "outputs": [],
   "source": [
    "preds = ks.predict(X_train)"
   ]
  },
  {
   "cell_type": "code",
   "execution_count": 33,
   "metadata": {},
   "outputs": [
    {
     "name": "stdout",
     "output_type": "stream",
     "text": [
      "[0 1 1 0 0 0 1 0 0 0 0 1 1 0 1 0 1 1 0 0 1 0 1 0 0 1 0 0 1 0 1 0 0 1 1 0 0\n",
      " 0 0 1 1 0 1 0 1 0 1 1 0 1 1 0 0 1 1 0 0 0 1 1 0 1 1 0 1 1 1 0 0 1 0 1 0 0\n",
      " 0 0 0 1 1 0 0 0 1 0 0 0 1 1 0 1 0 1 0 1 0 0 0 0 1 1 1 0 0 0 0 1 1 0 1 0 1\n",
      " 1 1 1 0 0 1 0 1 0 1 1 0 1 0 1 0 0 1 0 1 0 1 0 1 0 0 0 0 0 1 0 1 0 1 0 1 0\n",
      " 1 0 1 0 0 0 1 1 0 0 1 1 1 1 0 1 0 1 1 1 0 1 0 1 1 0 1 1 0 1 0 1 1 1 0 1 1\n",
      " 0 1 1 1 0 0 1 0 1 0 0 0 1 0 0 0 1 1 1 1 0 0 0 1 1 0 0 1 1 1 0 0 1 0 1 1 1\n",
      " 0 1 1 0 1 0 1 0 0 1 0 1 0 1 0 1 0 0 1 1 1 0 1 1 0 1 0 0 0 1 0 0 1 0 0 1 0\n",
      " 1 1 1]\n"
     ]
    }
   ],
   "source": [
    "print(preds)"
   ]
  },
  {
   "cell_type": "code",
   "execution_count": null,
   "metadata": {},
   "outputs": [],
   "source": []
  }
 ],
 "metadata": {
  "kernelspec": {
   "display_name": "Python 3",
   "language": "python",
   "name": "python3"
  },
  "language_info": {
   "codemirror_mode": {
    "name": "ipython",
    "version": 3
   },
   "file_extension": ".py",
   "mimetype": "text/x-python",
   "name": "python",
   "nbconvert_exporter": "python",
   "pygments_lexer": "ipython3",
   "version": "3.7.1"
  }
 },
 "nbformat": 4,
 "nbformat_minor": 4
}