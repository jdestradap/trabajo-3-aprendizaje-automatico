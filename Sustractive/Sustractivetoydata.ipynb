{
 "cells": [
  {
   "cell_type": "code",
   "execution_count": null,
   "metadata": {},
   "outputs": [],
   "source": [
    "Javier Arturo Rozo Alzate - jarozoa@eafit.edu.co\n",
    "Johan Steward Rios Naranjo - jriosna1@eafit.edu.co\n",
    "Liceth Cristina Mosquera Galvis - lcmosquerg@eafit.edu.co\n",
    "Juan Mauricio Cuscagua Lopez - jcuscagu@eafit.edu.co\n",
    "Juan Diego Estrada Perez - jestra15@eafit.edu.co\n",
    "\n",
    "Programa: Aprendizaje Automático Docente: Olga Lucia Quintero - oquinte1@eafit.edu.co\n",
    "05 de noviembre de 2019\n",
    "\n",
    "Basado en paper Fuzzy Model Identification Based On Cluster Estimation, Chiu (2004)\n",
    "\n"
   ]
  },
  {
   "cell_type": "markdown",
   "metadata": {},
   "source": [
    "# Sustractive clustering Datos Jugete"
   ]
  },
  {
   "cell_type": "code",
   "execution_count": 1,
   "metadata": {},
   "outputs": [],
   "source": [
    "from sklearn import datasets\n",
    "from sklearn.decomposition import PCA"
   ]
  },
  {
   "cell_type": "code",
   "execution_count": 105,
   "metadata": {},
   "outputs": [],
   "source": [
    "import numpy as np\n",
    "import math \n",
    "import matplotlib.pyplot as plt"
   ]
  },
  {
   "cell_type": "code",
   "execution_count": 3,
   "metadata": {},
   "outputs": [],
   "source": [
    "iris = datasets.load_iris()"
   ]
  },
  {
   "cell_type": "code",
   "execution_count": 25,
   "metadata": {},
   "outputs": [],
   "source": [
    "A = iris.data\n"
   ]
  },
  {
   "cell_type": "code",
   "execution_count": 107,
   "metadata": {},
   "outputs": [],
   "source": [
    "X = iris.data[:, :2]\n",
    "y = iris.target"
   ]
  },
  {
   "cell_type": "code",
   "execution_count": 108,
   "metadata": {},
   "outputs": [
    {
     "data": {
      "text/plain": [
       "Text(0, 0.5, 'Sepal Width')"
      ]
     },
     "execution_count": 108,
     "metadata": {},
     "output_type": "execute_result"
    },
    {
     "data": {
      "image/png": "[encoded data removed]",
      "text/plain": [
       "<Figure size 432x288 with 1 Axes>"
      ]
     },
     "metadata": {
      "needs_background": "light"
     },
     "output_type": "display_data"
    }
   ],
   "source": [
    "plt.scatter(X[:,0], X[:,1], c=y, cmap='gist_rainbow')\n",
    "plt.xlabel('Spea1 Length', fontsize=18)\n",
    "plt.ylabel('Sepal Width', fontsize=18)"
   ]
  },
  {
   "cell_type": "code",
   "execution_count": 109,
   "metadata": {},
   "outputs": [],
   "source": [
    "#calcular el valor de alfa\n",
    "\n",
    "ra = 0.3\n",
    "\n",
    "alpha = 4/(ra**2)"
   ]
  },
  {
   "cell_type": "code",
   "execution_count": 110,
   "metadata": {},
   "outputs": [
    {
     "data": {
      "text/plain": [
       "array([4.9, 3. , 1.4, 0.2])"
      ]
     },
     "execution_count": 110,
     "metadata": {},
     "output_type": "execute_result"
    }
   ],
   "source": [
    "A[1,:]"
   ]
  },
  {
   "cell_type": "code",
   "execution_count": 111,
   "metadata": {},
   "outputs": [],
   "source": [
    "# Calculate P_i\n",
    "#A = np.arange(25).reshape(5,5)\n",
    "\n",
    "rang = range(A.shape[0])\n",
    "p=[]\n",
    "for i in rang:\n",
    "    r_i=A[i,:]\n",
    "    l = []\n",
    "    for j in rang:\n",
    "        \n",
    "        r_j=A[j,:]\n",
    "        l.append(math.exp(-alpha*(np.linalg.norm(r_i-r_j))))    \n",
    "   \n",
    "    p.append(sum(l))\n",
    "              \n",
    "\n",
    "        \n",
    "    "
   ]
  },
  {
   "cell_type": "code",
   "execution_count": 112,
   "metadata": {},
   "outputs": [
    {
     "name": "stdout",
     "output_type": "stream",
     "text": [
      "the position of the first centroid is 101\n",
      "the potential value of the first centroid is 2.000009114540864\n"
     ]
    }
   ],
   "source": [
    "p_np = np.asarray(p)\n",
    "P1_position = p_np.argmax()\n",
    "P1_potential_value  =p_np[p_np.argmax()]\n",
    "print(\"the position of the first centroid is\", P1_position)\n",
    "print(\"the potential value of the first centroid is\", P1_potential_value)"
   ]
  },
  {
   "cell_type": "code",
   "execution_count": 113,
   "metadata": {},
   "outputs": [],
   "source": [
    "#review the potential of each data point x"
   ]
  },
  {
   "cell_type": "code",
   "execution_count": null,
   "metadata": {},
   "outputs": [],
   "source": []
  },
  {
   "cell_type": "code",
   "execution_count": 114,
   "metadata": {},
   "outputs": [],
   "source": [
    "\n",
    "def redefine(P1_position,P1_potential_value,p_np):\n",
    "    # define Beta\n",
    "    global p_np_rev\n",
    "    rb = 0.7\n",
    "\n",
    "    #recomended value for rb is 1.5ra\n",
    "\n",
    "    beta = 4/(rb**2)\n",
    "\n",
    "    #review the potential of each data point x\n",
    "    x_1 = A[P1_position,:] #the location of the first selected centroid.\n",
    "    \n",
    "    p_np_rev = []\n",
    "    \n",
    "    for i in range(len(p_np)):\n",
    "        r_i=A[i,:]\n",
    "        p_np_rev.append(p_np[i]- (P1_potential_value*(math.exp(-beta*(np.linalg.norm(r_i-x_1)**2)))))\n",
    "    \n",
    "   \n",
    "   "
   ]
  },
  {
   "cell_type": "code",
   "execution_count": 115,
   "metadata": {},
   "outputs": [
    {
     "name": "stdout",
     "output_type": "stream",
     "text": [
      "<class 'numpy.ndarray'>\n",
      "<class 'numpy.ndarray'>\n"
     ]
    }
   ],
   "source": [
    "print(type(p_np_rev))\n",
    "p_np_rev = np.asarray(p_np_rev)\n",
    "print(type(p_np_rev))"
   ]
  },
  {
   "cell_type": "code",
   "execution_count": 116,
   "metadata": {},
   "outputs": [],
   "source": [
    "redefine(P1_position,P1_potential_value,p_np)\n",
    "p_np_rev = np.asarray(p_np_rev)\n",
    "x_k = p_np_rev.argmax()\n",
    "p_k =p_np_rev[x_k]\n"
   ]
  },
  {
   "cell_type": "code",
   "execution_count": 117,
   "metadata": {},
   "outputs": [
    {
     "data": {
      "text/plain": [
       "0"
      ]
     },
     "execution_count": 117,
     "metadata": {},
     "output_type": "execute_result"
    }
   ],
   "source": [
    "x_k"
   ]
  },
  {
   "cell_type": "code",
   "execution_count": 118,
   "metadata": {},
   "outputs": [
    {
     "name": "stdout",
     "output_type": "stream",
     "text": [
      "the number of the centroids is 3\n",
      "the positions of the centroids are [101, 0, 132]\n"
     ]
    }
   ],
   "source": [
    "# Define 3 lists, \n",
    "#the first is the input of the potential values \n",
    "#the second is the list that is modified in the second part of the iteration\n",
    "#the third save the position of each centroid\n",
    "\n",
    "l1= p_np\n",
    "l2= p_np\n",
    "l3= []\n",
    "\n",
    "###\n",
    "#Value e\n",
    "\n",
    "e= 0.51\n",
    "###\n",
    "\n",
    "x_k = P1_position\n",
    "p_k = P1_potential_value\n",
    "p_np_rev = p_np\n",
    "\n",
    "l3.append(P1_position)\n",
    "\n",
    "# we want to find de second max value of p, to achieve that we replace the current max value for 0\n",
    "\n",
    "\n",
    "while p_k > e*P1_potential_value:\n",
    "    \n",
    "    redefine(x_k,p_k,p_np_rev)\n",
    "    \n",
    "    p_np_rev = np.asarray(p_np_rev)\n",
    "    x_k = p_np_rev.argmax()\n",
    "    p_k =p_np_rev[x_k]\n",
    "    \n",
    "    l3.append(x_k)\n",
    "    \n",
    "    \n",
    "\n",
    "    if (p_k < e*P1_potential_value):\n",
    "        break\n",
    "        \n",
    "    if (len(l3)>10):\n",
    "        break\n",
    "\n",
    "        \n",
    "  \n",
    "    \n",
    "    \n",
    "print(\"the number of the centroids is\", len(l3))\n",
    "print(\"the positions of the centroids are\", l3)\n",
    "\n",
    "\n",
    "    "
   ]
  }
 ],
 "metadata": {
  "kernelspec": {
   "display_name": "Python 3",
   "language": "python",
   "name": "python3"
  },
  "language_info": {
   "codemirror_mode": {
    "name": "ipython",
    "version": 3
   },
   "file_extension": ".py",
   "mimetype": "text/x-python",
   "name": "python",
   "nbconvert_exporter": "python",
   "pygments_lexer": "ipython3",
   "version": "3.7.1"
  }
 },
 "nbformat": 4,
 "nbformat_minor": 4
}
